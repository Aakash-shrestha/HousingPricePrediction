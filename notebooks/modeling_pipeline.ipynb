{
 "cells": [
  {
   "cell_type": "code",
   "execution_count": 2,
   "id": "c381fd4f",
   "metadata": {},
   "outputs": [],
   "source": [
    "import pandas as pd\n",
    "import numpy as np"
   ]
  },
  {
   "cell_type": "code",
   "execution_count": 3,
   "id": "4e1c09c2",
   "metadata": {},
   "outputs": [],
   "source": [
    "#import visualization libraries\n",
    "import matplotlib.pyplot as plt\n",
    "import seaborn as sns"
   ]
  },
  {
   "cell_type": "code",
   "execution_count": 4,
   "id": "febcecec",
   "metadata": {},
   "outputs": [],
   "source": [
    "#import scikit learn stuffs\n",
    "from sklearn.model_selection import train_test_split, GridSearchCV, cross_val_score\n",
    "from sklearn.pipeline import Pipeline\n",
    "from sklearn.compose import ColumnTransformer\n",
    "from sklearn.impute import SimpleImputer\n",
    "from sklearn.preprocessing import StandardScaler, OneHotEncoder\n",
    "from sklearn.linear_model import LinearRegression, Ridge, Lasso\n",
    "from sklearn.metrics import mean_squared_error, r2_score"
   ]
  },
  {
   "cell_type": "code",
   "execution_count": 8,
   "id": "c6c28700",
   "metadata": {},
   "outputs": [
    {
     "data": {
      "text/html": [
       "<div>\n",
       "<style scoped>\n",
       "    .dataframe tbody tr th:only-of-type {\n",
       "        vertical-align: middle;\n",
       "    }\n",
       "\n",
       "    .dataframe tbody tr th {\n",
       "        vertical-align: top;\n",
       "    }\n",
       "\n",
       "    .dataframe thead th {\n",
       "        text-align: right;\n",
       "    }\n",
       "</style>\n",
       "<table border=\"1\" class=\"dataframe\">\n",
       "  <thead>\n",
       "    <tr style=\"text-align: right;\">\n",
       "      <th></th>\n",
       "      <th>Order</th>\n",
       "      <th>PID</th>\n",
       "      <th>MS SubClass</th>\n",
       "      <th>MS Zoning</th>\n",
       "      <th>Lot Frontage</th>\n",
       "      <th>Lot Area</th>\n",
       "      <th>Street</th>\n",
       "      <th>Alley</th>\n",
       "      <th>Lot Shape</th>\n",
       "      <th>Land Contour</th>\n",
       "      <th>...</th>\n",
       "      <th>Pool Area</th>\n",
       "      <th>Pool QC</th>\n",
       "      <th>Fence</th>\n",
       "      <th>Misc Feature</th>\n",
       "      <th>Misc Val</th>\n",
       "      <th>Mo Sold</th>\n",
       "      <th>Yr Sold</th>\n",
       "      <th>Sale Type</th>\n",
       "      <th>Sale Condition</th>\n",
       "      <th>SalePrice</th>\n",
       "    </tr>\n",
       "  </thead>\n",
       "  <tbody>\n",
       "    <tr>\n",
       "      <th>0</th>\n",
       "      <td>1</td>\n",
       "      <td>526301100</td>\n",
       "      <td>20</td>\n",
       "      <td>RL</td>\n",
       "      <td>141.0</td>\n",
       "      <td>31770</td>\n",
       "      <td>Pave</td>\n",
       "      <td>NaN</td>\n",
       "      <td>IR1</td>\n",
       "      <td>Lvl</td>\n",
       "      <td>...</td>\n",
       "      <td>0</td>\n",
       "      <td>NaN</td>\n",
       "      <td>NaN</td>\n",
       "      <td>NaN</td>\n",
       "      <td>0</td>\n",
       "      <td>5</td>\n",
       "      <td>2010</td>\n",
       "      <td>WD</td>\n",
       "      <td>Normal</td>\n",
       "      <td>215000</td>\n",
       "    </tr>\n",
       "    <tr>\n",
       "      <th>1</th>\n",
       "      <td>2</td>\n",
       "      <td>526350040</td>\n",
       "      <td>20</td>\n",
       "      <td>RH</td>\n",
       "      <td>80.0</td>\n",
       "      <td>11622</td>\n",
       "      <td>Pave</td>\n",
       "      <td>NaN</td>\n",
       "      <td>Reg</td>\n",
       "      <td>Lvl</td>\n",
       "      <td>...</td>\n",
       "      <td>0</td>\n",
       "      <td>NaN</td>\n",
       "      <td>MnPrv</td>\n",
       "      <td>NaN</td>\n",
       "      <td>0</td>\n",
       "      <td>6</td>\n",
       "      <td>2010</td>\n",
       "      <td>WD</td>\n",
       "      <td>Normal</td>\n",
       "      <td>105000</td>\n",
       "    </tr>\n",
       "    <tr>\n",
       "      <th>2</th>\n",
       "      <td>3</td>\n",
       "      <td>526351010</td>\n",
       "      <td>20</td>\n",
       "      <td>RL</td>\n",
       "      <td>81.0</td>\n",
       "      <td>14267</td>\n",
       "      <td>Pave</td>\n",
       "      <td>NaN</td>\n",
       "      <td>IR1</td>\n",
       "      <td>Lvl</td>\n",
       "      <td>...</td>\n",
       "      <td>0</td>\n",
       "      <td>NaN</td>\n",
       "      <td>NaN</td>\n",
       "      <td>Gar2</td>\n",
       "      <td>12500</td>\n",
       "      <td>6</td>\n",
       "      <td>2010</td>\n",
       "      <td>WD</td>\n",
       "      <td>Normal</td>\n",
       "      <td>172000</td>\n",
       "    </tr>\n",
       "    <tr>\n",
       "      <th>3</th>\n",
       "      <td>4</td>\n",
       "      <td>526353030</td>\n",
       "      <td>20</td>\n",
       "      <td>RL</td>\n",
       "      <td>93.0</td>\n",
       "      <td>11160</td>\n",
       "      <td>Pave</td>\n",
       "      <td>NaN</td>\n",
       "      <td>Reg</td>\n",
       "      <td>Lvl</td>\n",
       "      <td>...</td>\n",
       "      <td>0</td>\n",
       "      <td>NaN</td>\n",
       "      <td>NaN</td>\n",
       "      <td>NaN</td>\n",
       "      <td>0</td>\n",
       "      <td>4</td>\n",
       "      <td>2010</td>\n",
       "      <td>WD</td>\n",
       "      <td>Normal</td>\n",
       "      <td>244000</td>\n",
       "    </tr>\n",
       "    <tr>\n",
       "      <th>4</th>\n",
       "      <td>5</td>\n",
       "      <td>527105010</td>\n",
       "      <td>60</td>\n",
       "      <td>RL</td>\n",
       "      <td>74.0</td>\n",
       "      <td>13830</td>\n",
       "      <td>Pave</td>\n",
       "      <td>NaN</td>\n",
       "      <td>IR1</td>\n",
       "      <td>Lvl</td>\n",
       "      <td>...</td>\n",
       "      <td>0</td>\n",
       "      <td>NaN</td>\n",
       "      <td>MnPrv</td>\n",
       "      <td>NaN</td>\n",
       "      <td>0</td>\n",
       "      <td>3</td>\n",
       "      <td>2010</td>\n",
       "      <td>WD</td>\n",
       "      <td>Normal</td>\n",
       "      <td>189900</td>\n",
       "    </tr>\n",
       "  </tbody>\n",
       "</table>\n",
       "<p>5 rows × 82 columns</p>\n",
       "</div>"
      ],
      "text/plain": [
       "   Order        PID  MS SubClass MS Zoning  Lot Frontage  Lot Area Street  \\\n",
       "0      1  526301100           20        RL         141.0     31770   Pave   \n",
       "1      2  526350040           20        RH          80.0     11622   Pave   \n",
       "2      3  526351010           20        RL          81.0     14267   Pave   \n",
       "3      4  526353030           20        RL          93.0     11160   Pave   \n",
       "4      5  527105010           60        RL          74.0     13830   Pave   \n",
       "\n",
       "  Alley Lot Shape Land Contour  ... Pool Area Pool QC  Fence Misc Feature  \\\n",
       "0   NaN       IR1          Lvl  ...         0     NaN    NaN          NaN   \n",
       "1   NaN       Reg          Lvl  ...         0     NaN  MnPrv          NaN   \n",
       "2   NaN       IR1          Lvl  ...         0     NaN    NaN         Gar2   \n",
       "3   NaN       Reg          Lvl  ...         0     NaN    NaN          NaN   \n",
       "4   NaN       IR1          Lvl  ...         0     NaN  MnPrv          NaN   \n",
       "\n",
       "  Misc Val Mo Sold Yr Sold Sale Type  Sale Condition  SalePrice  \n",
       "0        0       5    2010       WD           Normal     215000  \n",
       "1        0       6    2010       WD           Normal     105000  \n",
       "2    12500       6    2010       WD           Normal     172000  \n",
       "3        0       4    2010       WD           Normal     244000  \n",
       "4        0       3    2010       WD           Normal     189900  \n",
       "\n",
       "[5 rows x 82 columns]"
      ]
     },
     "execution_count": 8,
     "metadata": {},
     "output_type": "execute_result"
    }
   ],
   "source": [
    "#load the dataset\n",
    "housing_data = pd.read_csv(\"../data/AmesHousing.csv\")\n",
    "housing_data.head()"
   ]
  },
  {
   "cell_type": "code",
   "execution_count": 9,
   "id": "51cc6995",
   "metadata": {},
   "outputs": [
    {
     "name": "stdout",
     "output_type": "stream",
     "text": [
      "Order                0\n",
      "Sale Condition       0\n",
      "Heating QC           0\n",
      "Central Air          0\n",
      "1st Flr SF           0\n",
      "                  ... \n",
      "Mas Vnr Type      1775\n",
      "Fence             2358\n",
      "Alley             2732\n",
      "Misc Feature      2824\n",
      "Pool QC           2917\n",
      "Length: 82, dtype: int64\n"
     ]
    }
   ],
   "source": [
    "#check for null columns\n",
    "print(housing_data.isna().sum().sort_values(ascending=True))"
   ]
  },
  {
   "cell_type": "code",
   "execution_count": 12,
   "id": "751be85c",
   "metadata": {},
   "outputs": [
    {
     "data": {
      "text/plain": [
       "['Order',\n",
       " 'PID',\n",
       " 'MS SubClass',\n",
       " 'MS Zoning',\n",
       " 'Lot Frontage',\n",
       " 'Lot Area',\n",
       " 'Street',\n",
       " 'Lot Shape',\n",
       " 'Land Contour',\n",
       " 'Utilities',\n",
       " 'Lot Config',\n",
       " 'Land Slope',\n",
       " 'Neighborhood',\n",
       " 'Condition 1',\n",
       " 'Condition 2',\n",
       " 'Bldg Type',\n",
       " 'House Style',\n",
       " 'Overall Qual',\n",
       " 'Overall Cond',\n",
       " 'Year Built',\n",
       " 'Year Remod/Add',\n",
       " 'Roof Style',\n",
       " 'Roof Matl',\n",
       " 'Exterior 1st',\n",
       " 'Exterior 2nd',\n",
       " 'Mas Vnr Type',\n",
       " 'Mas Vnr Area',\n",
       " 'Exter Qual',\n",
       " 'Exter Cond',\n",
       " 'Foundation',\n",
       " 'Bsmt Qual',\n",
       " 'Bsmt Cond',\n",
       " 'Bsmt Exposure',\n",
       " 'BsmtFin Type 1',\n",
       " 'BsmtFin SF 1',\n",
       " 'BsmtFin Type 2',\n",
       " 'BsmtFin SF 2',\n",
       " 'Bsmt Unf SF',\n",
       " 'Total Bsmt SF',\n",
       " 'Heating',\n",
       " 'Heating QC',\n",
       " 'Central Air',\n",
       " 'Electrical',\n",
       " '1st Flr SF',\n",
       " '2nd Flr SF',\n",
       " 'Low Qual Fin SF',\n",
       " 'Gr Liv Area',\n",
       " 'Bsmt Full Bath',\n",
       " 'Bsmt Half Bath',\n",
       " 'Full Bath',\n",
       " 'Half Bath',\n",
       " 'Bedroom AbvGr',\n",
       " 'Kitchen AbvGr',\n",
       " 'Kitchen Qual',\n",
       " 'TotRms AbvGrd',\n",
       " 'Functional',\n",
       " 'Fireplaces',\n",
       " 'Fireplace Qu',\n",
       " 'Garage Type',\n",
       " 'Garage Yr Blt',\n",
       " 'Garage Finish',\n",
       " 'Garage Cars',\n",
       " 'Garage Area',\n",
       " 'Garage Qual',\n",
       " 'Garage Cond',\n",
       " 'Paved Drive',\n",
       " 'Wood Deck SF',\n",
       " 'Open Porch SF',\n",
       " 'Enclosed Porch',\n",
       " '3Ssn Porch',\n",
       " 'Screen Porch',\n",
       " 'Pool Area',\n",
       " 'Misc Val',\n",
       " 'Mo Sold',\n",
       " 'Yr Sold',\n",
       " 'Sale Type',\n",
       " 'Sale Condition',\n",
       " 'SalePrice']"
      ]
     },
     "execution_count": 12,
     "metadata": {},
     "output_type": "execute_result"
    }
   ],
   "source": [
    "#drop the column having null values more than 80 percent\n",
    "threshold = 0.8\n",
    "\n",
    "housing_data = housing_data.loc[:, housing_data.isna().mean() < threshold]\n",
    "list(housing_data.columns)"
   ]
  },
  {
   "cell_type": "code",
   "execution_count": 13,
   "id": "b143e4b0",
   "metadata": {},
   "outputs": [],
   "source": [
    "#drop the columns which does not add much to the analysis\n",
    "housing_data.drop([\"Order\", \"PID\"], axis=1, inplace=True, errors=\"ignore\")"
   ]
  },
  {
   "cell_type": "code",
   "execution_count": 14,
   "id": "1ddca3a3",
   "metadata": {},
   "outputs": [],
   "source": [
    "#train test split data\n",
    "X = housing_data.drop(\"SalePrice\", axis=1)\n",
    "y = housing_data[\"SalePrice\"]\n",
    "\n",
    "X_train, X_test, y_train, y_test = train_test_split(X, y, test_size=0.2, random_state=21)\n"
   ]
  },
  {
   "cell_type": "code",
   "execution_count": 22,
   "id": "9fd08237",
   "metadata": {},
   "outputs": [
    {
     "name": "stdout",
     "output_type": "stream",
     "text": [
      "Numeric Features: 36\n",
      "Categorical Features: 39\n"
     ]
    }
   ],
   "source": [
    "#select numeric and categorical columns\n",
    "numeric_features = X.select_dtypes(include=['int64', 'float64']).columns.tolist()\n",
    "categorical_features = X.select_dtypes(include=[\"object\"]).columns.tolist()\n",
    "print(f\"Numeric Features: {len(numeric_features)}\")\n",
    "print(f\"Categorical Features: {len(categorical_features)}\")"
   ]
  },
  {
   "cell_type": "code",
   "execution_count": 24,
   "id": "113eb661",
   "metadata": {},
   "outputs": [],
   "source": [
    "#define steps for numeric and categorical features pipeline\n",
    "numeric_steps = [\n",
    "    ('imputer', SimpleImputer(strategy='median')),\n",
    "    ('scaler', StandardScaler())\n",
    "]\n",
    "\n",
    "categorical_steps = [\n",
    "    ('imputer', SimpleImputer(strategy=\"most_frequent\")), #mode is used for cateogrical data\n",
    "    ('onehot', OneHotEncoder(handle_unknown='ignore'))\n",
    "]\n"
   ]
  },
  {
   "cell_type": "code",
   "execution_count": 26,
   "id": "d4e47633",
   "metadata": {},
   "outputs": [],
   "source": [
    "#define the pipelines yayyy\n",
    "numeric_transformer = Pipeline(numeric_steps)\n",
    "categorical_transformer = Pipeline(categorical_steps)\n"
   ]
  },
  {
   "cell_type": "code",
   "execution_count": null,
   "id": "118565e4",
   "metadata": {},
   "outputs": [],
   "source": [
    "#Column Transformer stuffs\n",
    "#Column transformer allows diffrent transformer to apply for different kind of features\n",
    "preprocessor = ColumnTransformer(\n",
    "    transformers = [\n",
    "        ('num', numeric_transformer, numeric_features),\n",
    "        ('cat', categorical_transformer, categorical_features)\n",
    "    ]\n",
    ")"
   ]
  },
  {
   "cell_type": "code",
   "execution_count": 29,
   "id": "860804eb",
   "metadata": {},
   "outputs": [],
   "source": [
    "#Listing the models to compare\n",
    "models = {\n",
    "    'LinearRegression': LinearRegression(),\n",
    "    'Lasso': Lasso(),\n",
    "    'Ridge' : Ridge()\n",
    "}"
   ]
  },
  {
   "cell_type": "code",
   "execution_count": null,
   "id": "4198033a",
   "metadata": {},
   "outputs": [
    {
     "name": "stdout",
     "output_type": "stream",
     "text": [
      "Training LinearRegression\n",
      "Training Lasso\n"
     ]
    },
    {
     "name": "stderr",
     "output_type": "stream",
     "text": [
      "/Users/aakashshrestha/Documents/Machine Learning/Projects/HousingPricePrediction/venv/lib/python3.11/site-packages/sklearn/linear_model/_coordinate_descent.py:656: ConvergenceWarning: Objective did not converge. You might want to increase the number of iterations. Duality gap: 383702204242.03815, tolerance: 1238845978.9755378\n",
      "  model = cd_fast.sparse_enet_coordinate_descent(\n",
      "/Users/aakashshrestha/Documents/Machine Learning/Projects/HousingPricePrediction/venv/lib/python3.11/site-packages/sklearn/linear_model/_coordinate_descent.py:656: ConvergenceWarning: Objective did not converge. You might want to increase the number of iterations. Duality gap: 376302666786.83795, tolerance: 1222413468.8986657\n",
      "  model = cd_fast.sparse_enet_coordinate_descent(\n",
      "/Users/aakashshrestha/Documents/Machine Learning/Projects/HousingPricePrediction/venv/lib/python3.11/site-packages/sklearn/linear_model/_coordinate_descent.py:656: ConvergenceWarning: Objective did not converge. You might want to increase the number of iterations. Duality gap: 380430272645.29315, tolerance: 1238845978.9755378\n",
      "  model = cd_fast.sparse_enet_coordinate_descent(\n",
      "/Users/aakashshrestha/Documents/Machine Learning/Projects/HousingPricePrediction/venv/lib/python3.11/site-packages/sklearn/linear_model/_coordinate_descent.py:656: ConvergenceWarning: Objective did not converge. You might want to increase the number of iterations. Duality gap: 170729409917.47873, tolerance: 1176861511.74664\n",
      "  model = cd_fast.sparse_enet_coordinate_descent(\n",
      "/Users/aakashshrestha/Documents/Machine Learning/Projects/HousingPricePrediction/venv/lib/python3.11/site-packages/sklearn/linear_model/_coordinate_descent.py:656: ConvergenceWarning: Objective did not converge. You might want to increase the number of iterations. Duality gap: 372187420621.2687, tolerance: 1222413468.8986657\n",
      "  model = cd_fast.sparse_enet_coordinate_descent(\n",
      "/Users/aakashshrestha/Documents/Machine Learning/Projects/HousingPricePrediction/venv/lib/python3.11/site-packages/sklearn/linear_model/_coordinate_descent.py:656: ConvergenceWarning: Objective did not converge. You might want to increase the number of iterations. Duality gap: 157328626556.1577, tolerance: 1176861511.74664\n",
      "  model = cd_fast.sparse_enet_coordinate_descent(\n",
      "/Users/aakashshrestha/Documents/Machine Learning/Projects/HousingPricePrediction/venv/lib/python3.11/site-packages/sklearn/linear_model/_coordinate_descent.py:656: ConvergenceWarning: Objective did not converge. You might want to increase the number of iterations. Duality gap: 185744826346.26062, tolerance: 1164229754.6442795\n",
      "  model = cd_fast.sparse_enet_coordinate_descent(\n",
      "/Users/aakashshrestha/Documents/Machine Learning/Projects/HousingPricePrediction/venv/lib/python3.11/site-packages/sklearn/linear_model/_coordinate_descent.py:656: ConvergenceWarning: Objective did not converge. You might want to increase the number of iterations. Duality gap: 443873773639.5361, tolerance: 1201102028.704072\n",
      "  model = cd_fast.sparse_enet_coordinate_descent(\n",
      "/Users/aakashshrestha/Documents/Machine Learning/Projects/HousingPricePrediction/venv/lib/python3.11/site-packages/sklearn/linear_model/_coordinate_descent.py:656: ConvergenceWarning: Objective did not converge. You might want to increase the number of iterations. Duality gap: 348896376642.3972, tolerance: 1238845978.9755378\n",
      "  model = cd_fast.sparse_enet_coordinate_descent(\n",
      "/Users/aakashshrestha/Documents/Machine Learning/Projects/HousingPricePrediction/venv/lib/python3.11/site-packages/sklearn/linear_model/_coordinate_descent.py:656: ConvergenceWarning: Objective did not converge. You might want to increase the number of iterations. Duality gap: 105306312270.59027, tolerance: 1164229754.6442795\n",
      "  model = cd_fast.sparse_enet_coordinate_descent(\n",
      "/Users/aakashshrestha/Documents/Machine Learning/Projects/HousingPricePrediction/venv/lib/python3.11/site-packages/sklearn/linear_model/_coordinate_descent.py:656: ConvergenceWarning: Objective did not converge. You might want to increase the number of iterations. Duality gap: 136801468479.30548, tolerance: 1238845978.9755378\n",
      "  model = cd_fast.sparse_enet_coordinate_descent(\n",
      "/Users/aakashshrestha/Documents/Machine Learning/Projects/HousingPricePrediction/venv/lib/python3.11/site-packages/sklearn/linear_model/_coordinate_descent.py:656: ConvergenceWarning: Objective did not converge. You might want to increase the number of iterations. Duality gap: 112946714439.90973, tolerance: 1176861511.74664\n",
      "  model = cd_fast.sparse_enet_coordinate_descent(\n",
      "/Users/aakashshrestha/Documents/Machine Learning/Projects/HousingPricePrediction/venv/lib/python3.11/site-packages/sklearn/linear_model/_coordinate_descent.py:656: ConvergenceWarning: Objective did not converge. You might want to increase the number of iterations. Duality gap: 439710733740.37524, tolerance: 1201102028.704072\n",
      "  model = cd_fast.sparse_enet_coordinate_descent(\n",
      "/Users/aakashshrestha/Documents/Machine Learning/Projects/HousingPricePrediction/venv/lib/python3.11/site-packages/sklearn/linear_model/_coordinate_descent.py:656: ConvergenceWarning: Objective did not converge. You might want to increase the number of iterations. Duality gap: 105019342418.86414, tolerance: 1164229754.6442795\n",
      "  model = cd_fast.sparse_enet_coordinate_descent(\n",
      "/Users/aakashshrestha/Documents/Machine Learning/Projects/HousingPricePrediction/venv/lib/python3.11/site-packages/sklearn/linear_model/_coordinate_descent.py:656: ConvergenceWarning: Objective did not converge. You might want to increase the number of iterations. Duality gap: 331733891495.1551, tolerance: 1222413468.8986657\n",
      "  model = cd_fast.sparse_enet_coordinate_descent(\n",
      "/Users/aakashshrestha/Documents/Machine Learning/Projects/HousingPricePrediction/venv/lib/python3.11/site-packages/sklearn/linear_model/_coordinate_descent.py:656: ConvergenceWarning: Objective did not converge. You might want to increase the number of iterations. Duality gap: 399480339743.04114, tolerance: 1201102028.704072\n",
      "  model = cd_fast.sparse_enet_coordinate_descent(\n",
      "/Users/aakashshrestha/Documents/Machine Learning/Projects/HousingPricePrediction/venv/lib/python3.11/site-packages/sklearn/linear_model/_coordinate_descent.py:656: ConvergenceWarning: Objective did not converge. You might want to increase the number of iterations. Duality gap: 63018753825.140625, tolerance: 1176861511.74664\n",
      "  model = cd_fast.sparse_enet_coordinate_descent(\n",
      "/Users/aakashshrestha/Documents/Machine Learning/Projects/HousingPricePrediction/venv/lib/python3.11/site-packages/sklearn/linear_model/_coordinate_descent.py:656: ConvergenceWarning: Objective did not converge. You might want to increase the number of iterations. Duality gap: 68906732495.55554, tolerance: 1164229754.6442795\n",
      "  model = cd_fast.sparse_enet_coordinate_descent(\n",
      "/Users/aakashshrestha/Documents/Machine Learning/Projects/HousingPricePrediction/venv/lib/python3.11/site-packages/sklearn/linear_model/_coordinate_descent.py:656: ConvergenceWarning: Objective did not converge. You might want to increase the number of iterations. Duality gap: 127598653632.94305, tolerance: 1201102028.704072\n",
      "  model = cd_fast.sparse_enet_coordinate_descent(\n",
      "/Users/aakashshrestha/Documents/Machine Learning/Projects/HousingPricePrediction/venv/lib/python3.11/site-packages/sklearn/linear_model/_coordinate_descent.py:656: ConvergenceWarning: Objective did not converge. You might want to increase the number of iterations. Duality gap: 62029237152.211914, tolerance: 1222413468.8986657\n",
      "  model = cd_fast.sparse_enet_coordinate_descent(\n",
      "/Users/aakashshrestha/Documents/Machine Learning/Projects/HousingPricePrediction/venv/lib/python3.11/site-packages/sklearn/linear_model/_coordinate_descent.py:656: ConvergenceWarning: Objective did not converge. You might want to increase the number of iterations. Duality gap: 87895972802.93506, tolerance: 1501247009.079647\n",
      "  model = cd_fast.sparse_enet_coordinate_descent(\n"
     ]
    },
    {
     "name": "stdout",
     "output_type": "stream",
     "text": [
      "Training Ridge\n",
      "Training Complete!\n"
     ]
    }
   ],
   "source": [
    "#performing GridSearchCv and Cross Validation\n",
    "\n",
    "from sklearn.model_selection import KFold\n",
    "\n",
    "kf = KFold(n_splits=5, shuffle=True, random_state=21)\n",
    "\n",
    "#define parameters for GridSearchCV\n",
    "param_grid = {\n",
    "    'Ridge': {'model__alpha': [0.1, 1, 10, 100]},\n",
    "    'Lasso': {'model__alpha': [0.001, 0.01, 0.1, 1]}\n",
    "}\n",
    "\n",
    "#define a dictionary to store the models\n",
    "best_models = {}\n",
    "\n",
    "for name, model in models.items():\n",
    "    print(f\"Training {name}\")\n",
    "    \n",
    "    #define pipeline to be used for GridSearchCV estimator\n",
    "    pipeline = Pipeline(steps=[\n",
    "        ('preprocessor', preprocessor),\n",
    "        ('model', model)\n",
    "    ])\n",
    "    \n",
    "    grid = GridSearchCV(pipeline,\n",
    "                        param_grid.get(name, {}),\n",
    "                        cv=kf,\n",
    "                        scoring='r2', #r squared\n",
    "                        n_jobs=-1) #faster GridSearch\n",
    "    \n",
    "    grid.fit(X_train, y_train)\n",
    "    best_models[name] = grid #stores the grid object for each model\n",
    "\n",
    "print(\"Training Complete!\")"
   ]
  },
  {
   "cell_type": "code",
   "execution_count": 33,
   "id": "94ca1217",
   "metadata": {},
   "outputs": [],
   "source": [
    "#evaluate the performance of each model\n",
    "\n",
    "results = {}\n",
    "\n",
    "for name, grid in best_models.items():\n",
    "    y_pred = grid.predict(X_test)\n",
    "    mse = mean_squared_error(y_test, y_pred)\n",
    "    r2 = r2_score(y_test, y_pred)\n",
    "    \n",
    "    results[name] = {\n",
    "        'Best Params': grid.best_params_,\n",
    "        'Test MSE': mse, #lower better\n",
    "        'Test R2': r2, #higher better\n",
    "        'CV Score': grid.best_score_ #higher better\n",
    "    }\n",
    "    \n",
    "    results_df = pd.DataFrame(results).T # T transposes the dataframe\n",
    "    results_df.sort_values(by=['Test R2', 'CV Score', 'Test MSE'], ascending=[False, False, True])\n",
    "    "
   ]
  },
  {
   "cell_type": "code",
   "execution_count": 34,
   "id": "efe6a486",
   "metadata": {},
   "outputs": [
    {
     "name": "stdout",
     "output_type": "stream",
     "text": [
      "                           Best Params          Test MSE   Test R2  CV Score\n",
      "LinearRegression                    {}  729858849.342534  0.883497  0.802348\n",
      "Lasso              {'model__alpha': 1}  697758781.595297   0.88862  0.809896\n",
      "Ridge             {'model__alpha': 10}  555221991.462982  0.911373  0.831085\n"
     ]
    }
   ],
   "source": [
    "#print results df\n",
    "print(results_df)"
   ]
  },
  {
   "cell_type": "markdown",
   "id": "7d7c4535",
   "metadata": {},
   "source": [
    "*Since, Ridge has the lowest MSE, Highest R2 and highest CV score, it is the best !!*"
   ]
  },
  {
   "cell_type": "code",
   "execution_count": 35,
   "id": "39a2e5c2",
   "metadata": {},
   "outputs": [
    {
     "data": {
      "text/plain": [
       "['../models/ridge_best.pkl']"
      ]
     },
     "execution_count": 35,
     "metadata": {},
     "output_type": "execute_result"
    }
   ],
   "source": [
    "#store the best model \n",
    "import joblib\n",
    "joblib.dump(best_models['Ridge'], '../models/ridge_best.pkl')"
   ]
  },
  {
   "cell_type": "code",
   "execution_count": null,
   "id": "df0b7bc6",
   "metadata": {},
   "outputs": [
    {
     "data": {
      "text/plain": [
       "[]"
      ]
     },
     "execution_count": 37,
     "metadata": {},
     "output_type": "execute_result"
    },
    {
     "data": {
      "image/png": "[encoded data removed]",
      "text/plain": [
       "<Figure size 800x600 with 1 Axes>"
      ]
     },
     "metadata": {},
     "output_type": "display_data"
    }
   ],
   "source": [
    "#plot the graph for acutal vs predicted values\n",
    "y_pred = best_models['Ridge'].predict(X_test)\n",
    "plt.figure(figsize=(8,6))\n",
    "sns.scatterplot(x=y_test, y=y_pred)\n",
    "plt.xlabel(\"Actual Values\")\n",
    "plt.ylabel(\"Predicted Values\")\n",
    "plt.title(\"Ridge Regression: Actual vs Predicted Sale Price\")\n",
    "plt.plot([y_test.min(), y_test.max()], [y_test.min(), y_test.max()], '--r') #draws diagonal line\n",
    "plt.plot()"
   ]
  }
 ],
 "metadata": {
  "kernelspec": {
   "display_name": "venv",
   "language": "python",
   "name": "python3"
  },
  "language_info": {
   "codemirror_mode": {
    "name": "ipython",
    "version": 3
   },
   "file_extension": ".py",
   "mimetype": "text/x-python",
   "name": "python",
   "nbconvert_exporter": "python",
   "pygments_lexer": "ipython3",
   "version": "3.11.3"
  }
 },
 "nbformat": 4,
 "nbformat_minor": 5
}
